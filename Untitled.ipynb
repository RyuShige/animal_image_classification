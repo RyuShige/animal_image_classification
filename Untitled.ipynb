{
 "cells": [
  {
   "cell_type": "code",
   "execution_count": 1,
   "id": "9c87b80c",
   "metadata": {},
   "outputs": [
    {
     "name": "stderr",
     "output_type": "stream",
     "text": [
      "/opt/conda/lib/python3.9/site-packages/numpy/core/_asarray.py:171: VisibleDeprecationWarning: Creating an ndarray from ragged nested sequences (which is a list-or-tuple of lists-or-tuples-or ndarrays with different lengths or shapes) is deprecated. If you meant to do this, you must specify 'dtype=object' when creating the ndarray.\n",
      "  return array(a, dtype, copy=False, order=order, subok=True)\n"
     ]
    }
   ],
   "source": [
    "from PIL import Image\n",
    "import os, glob\n",
    "import numpy as np\n",
    "from sklearn import model_selection\n",
    "\n",
    "classes = [\"monkey\", \"boar\", \"crow\"]\n",
    "num_class = len(classes)\n",
    "image_size = 50\n",
    "\n",
    "# 画像の読み込み\n",
    "X = []\n",
    "y = []\n",
    "for index, classlabel in enumerate(classes):\n",
    "    photos_dir = \"./\" + classlabel\n",
    "    files = glob.glob(photos_dir + '/*.jpeg')\n",
    "    for i, file in enumerate(files):\n",
    "        if i >= 200: break\n",
    "        image = Image.open(file)\n",
    "        image = image.convert(\"RGB\")\n",
    "        image = image.resize((image_size, image_size))\n",
    "        data = np.asarray(image) #数字データに変換\n",
    "        X.append(data)\n",
    "        y.append(index)\n",
    "\n",
    "X = np.array(X)\n",
    "y = np.array(y)\n",
    "\n",
    "X_train, X_test, y_train, y_test = model_selection.train_test_split(X, y)\n",
    "xy = (X_train, X_test, y_train, y_test)\n",
    "np.save('./animal.npy', xy)\n"
   ]
  },
  {
   "cell_type": "code",
   "execution_count": 4,
   "id": "a121c23a",
   "metadata": {},
   "outputs": [
    {
     "data": {
      "text/plain": [
       "150"
      ]
     },
     "execution_count": 4,
     "metadata": {},
     "output_type": "execute_result"
    }
   ],
   "source": [
    "len(y_test)"
   ]
  },
  {
   "cell_type": "code",
   "execution_count": 5,
   "id": "d3292841",
   "metadata": {},
   "outputs": [
    {
     "data": {
      "text/plain": [
       "array([[[140, 161, 173],\n",
       "        [ 90,  99,  89],\n",
       "        [109, 127, 139],\n",
       "        ...,\n",
       "        [158, 184, 208],\n",
       "        [158, 184, 210],\n",
       "        [159, 185, 210]],\n",
       "\n",
       "       [[134, 156, 168],\n",
       "        [112, 128, 130],\n",
       "        [130, 154, 173],\n",
       "        ...,\n",
       "        [159, 181, 205],\n",
       "        [162, 187, 212],\n",
       "        [161, 186, 210]],\n",
       "\n",
       "       [[133, 157, 186],\n",
       "        [144, 170, 196],\n",
       "        [144, 181, 208],\n",
       "        ...,\n",
       "        [142, 157, 163],\n",
       "        [163, 185, 195],\n",
       "        [166, 189, 207]],\n",
       "\n",
       "       ...,\n",
       "\n",
       "       [[139, 170, 199],\n",
       "        [140, 171, 200],\n",
       "        [140, 171, 200],\n",
       "        ...,\n",
       "        [158, 176, 179],\n",
       "        [141, 151, 134],\n",
       "        [150, 167, 186]],\n",
       "\n",
       "       [[139, 170, 199],\n",
       "        [140, 171, 200],\n",
       "        [140, 171, 200],\n",
       "        ...,\n",
       "        [161, 176, 178],\n",
       "        [151, 167, 172],\n",
       "        [154, 173, 196]],\n",
       "\n",
       "       [[139, 170, 199],\n",
       "        [140, 171, 200],\n",
       "        [140, 171, 200],\n",
       "        ...,\n",
       "        [142, 162, 180],\n",
       "        [149, 169, 186],\n",
       "        [143, 165, 185]]], dtype=uint8)"
      ]
     },
     "execution_count": 5,
     "metadata": {},
     "output_type": "execute_result"
    }
   ],
   "source": [
    "X_train[100]"
   ]
  }
 ],
 "metadata": {
  "kernelspec": {
   "display_name": "Python 3 (ipykernel)",
   "language": "python",
   "name": "python3"
  },
  "language_info": {
   "codemirror_mode": {
    "name": "ipython",
    "version": 3
   },
   "file_extension": ".py",
   "mimetype": "text/x-python",
   "name": "python",
   "nbconvert_exporter": "python",
   "pygments_lexer": "ipython3",
   "version": "3.9.7"
  }
 },
 "nbformat": 4,
 "nbformat_minor": 5
}
